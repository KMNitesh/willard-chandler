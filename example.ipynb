{
 "cells": [
  {
   "cell_type": "markdown",
   "metadata": {},
   "source": [
    "# Willard-Chandler Instantaneous Interface Calculator\n",
    "Python-based tool to calculate instantaneous interfaces and concentration/orientation profiles from molecular simulation trajectories in slab geometry.\n",
    "\n",
    "The method is described by A.P. Willard and D. Chandler in [_Instantaneous Liquid Interfaces_](https://pubs.acs.org/doi/10.1021/jp909219k). The tool uses the Lewiner marching cubes algorithm and is partly an adaptation of the willard-chandler module of the [`pytim` code](https://github.com/Marcello-Sega/pytim) by M. Sega with the addition of a routine to calculate the orientational distribution of free O-H groups at the interface."
   ]
  },
  {
   "cell_type": "code",
   "execution_count": null,
   "metadata": {},
   "outputs": [],
   "source": [
    "from WCIS_functions import *\n",
    "%matplotlib inline\n",
    "import matplotlib.pyplot as plt\n",
    "from mpl_toolkits.mplot3d import Axes3D\n",
    "import nglview as nv\n",
    "import time"
   ]
  },
  {
   "cell_type": "code",
   "execution_count": null,
   "metadata": {},
   "outputs": [],
   "source": [
    "top = md.load('data/waterNaSCN.pdb')"
   ]
  },
  {
   "cell_type": "markdown",
   "metadata": {},
   "source": [
    "In this cell, we initialized the global parameters that will be used to calculate the instantaneous interfaces and concentration/orientation profiles. "
   ]
  },
  {
   "cell_type": "code",
   "execution_count": null,
   "metadata": {},
   "outputs": [],
   "source": [
    "params = initialize(filename='data/waterNaSCN.xtc',top=top,mesh=0.2,alpha=0.24,\n",
    "            molecules=['O','NA','S1 C2 N3'],nskip=0,layers=[-0.1,0.1,0.3,0.5])"
   ]
  },
  {
   "cell_type": "markdown",
   "metadata": {},
   "source": [
    "The upper and lower instantaneous surfaces are saved into the lists `upperS` and `lowerS`."
   ]
  },
  {
   "cell_type": "code",
   "execution_count": null,
   "metadata": {},
   "outputs": [],
   "source": [
    "upperS = []; lowerS = []\n",
    "cnt = 0\n",
    "for i in range(0,params['n_frames']):\n",
    "    frame = md.load_frame('data/waterNaSCN.xtc', index=i, top=top)\n",
    "    upper, lower = find_isosurfaces(frame,params)\n",
    "    upperS.append(upper[0])\n",
    "    lowerS.append(lower[0])\n",
    "    calc_profiles(frame,upper,params,label='upper',sign=1,layers=params['layers'])\n",
    "    calc_profiles(frame,lower,params,label='lower',sign=-1,layers=params['layers'])\n",
    "    cnt += 1"
   ]
  },
  {
   "cell_type": "markdown",
   "metadata": {},
   "source": [
    "Concentration/orientation profiles are divided by the number of frames."
   ]
  },
  {
   "cell_type": "code",
   "execution_count": null,
   "metadata": {},
   "outputs": [],
   "source": [
    "for atomdata in params['data'].values():\n",
    "    if type(atomdata['upper']) == dict:\n",
    "        atomdata['upper']['conc'] /= cnt \n",
    "        atomdata['lower']['conc'] /= cnt\n",
    "        atomdata['upper']['cosine'] /= cnt \n",
    "        atomdata['lower']['cosine'] /= cnt\n",
    "    else:\n",
    "        atomdata['upper'] /= cnt \n",
    "        atomdata['lower'] /= cnt"
   ]
  },
  {
   "cell_type": "markdown",
   "metadata": {},
   "source": [
    "We plot the upper and lower interfaces for the first trajectory frame."
   ]
  },
  {
   "cell_type": "code",
   "execution_count": null,
   "metadata": {},
   "outputs": [],
   "source": [
    "fig = plt.figure()\n",
    "ax = fig.add_subplot(111, projection='3d')\n",
    "ax.plot_trisurf(upperS[0][:,0],upperS[0][:,1],upperS[0][:,2])\n",
    "ax.plot_trisurf(lowerS[0][:,0],lowerS[0][:,1],lowerS[0][:,2])\n",
    "ax.set_xlabel('$x$  (nm)') \n",
    "ax.set_ylabel('$y$  (nm)')\n",
    "ax.set_zlabel('$z$  (nm)')\n",
    "for tick in ax.get_xaxis().get_major_ticks():\n",
    "    tick.set_pad(.5)\n",
    "for tick in ax.get_yaxis().get_major_ticks():\n",
    "    tick.set_pad(.3)\n",
    "plt.show()"
   ]
  },
  {
   "cell_type": "markdown",
   "metadata": {},
   "source": [
    "We plot the water oxygen concentration profiles w.r.t. the upper and lower surfaces, averaged over the 10 trajectory frames. "
   ]
  },
  {
   "cell_type": "code",
   "execution_count": null,
   "metadata": {},
   "outputs": [],
   "source": [
    "plt.plot(params['z'],params['data']['O']['upper'])\n",
    "plt.plot(params['z'],params['data']['O']['lower'])\n",
    "plt.xlim(-.5,3)\n",
    "plt.xlabel(r'Distance from Interface, $z$ (nm)') \n",
    "plt.ylabel('$c_{O}(z)$  (M)') \n",
    "plt.show()"
   ]
  },
  {
   "cell_type": "markdown",
   "metadata": {},
   "source": [
    "We load the trajectory."
   ]
  },
  {
   "cell_type": "code",
   "execution_count": null,
   "metadata": {},
   "outputs": [],
   "source": [
    "traj = md.load_xtc('data/waterNaSCN.xtc','data/waterNaSCN.pdb')"
   ]
  },
  {
   "cell_type": "code",
   "execution_count": null,
   "metadata": {},
   "outputs": [],
   "source": [
    "lengths = traj.unitcell_lengths.mean(axis=0)"
   ]
  },
  {
   "cell_type": "markdown",
   "metadata": {},
   "source": [
    "We save the surfaces for each frame into separate PDB files."
   ]
  },
  {
   "cell_type": "code",
   "execution_count": null,
   "metadata": {},
   "outputs": [],
   "source": [
    "def surface2pdb(surface,lengths):\n",
    "    top = md.Topology()       \n",
    "    chain = top.add_chain()\n",
    "    xyz = []\n",
    "    for pos in surface:\n",
    "        res = top.add_residue('H', chain)\n",
    "        atom = top.add_atom('H', element=md.element.argon, residue=res)\n",
    "        xyz.append(pos)\n",
    "    return md.Trajectory(xyz, topology=top, unitcell_lengths=lengths, unitcell_angles=[90,90,90])\n",
    "\n",
    "for i,u in enumerate(upperS):\n",
    "    utraj = surface2pdb(u,lengths)\n",
    "    utraj.save_pdb('data/upperconf'+str(i)+'.pdb')\n",
    "\n",
    "for i,l in enumerate(lowerS):\n",
    "    ltraj = surface2pdb(l,lengths)\n",
    "    ltraj.save_pdb('data/lowerconf'+str(i)+'.pdb')"
   ]
  },
  {
   "cell_type": "markdown",
   "metadata": {},
   "source": [
    "We visualize the trajectory and the surface vertexes using NGL Viewer."
   ]
  },
  {
   "cell_type": "code",
   "execution_count": null,
   "metadata": {
    "scrolled": true
   },
   "outputs": [],
   "source": [
    "v = nv.show_mdtraj(traj)\n",
    "v.add_spacefill(component=0,selection='.O',radius=3.166/2,color='red',opacity=0.3)\n",
    "v.add_spacefill(component=0,selection='.Na',radius=2.55/2,color='green',opacity=0.4)\n",
    "v.add_spacefill(component=0,selection='.S1',radius=3.83/2,color='yellow',opacity=0.4)\n",
    "v.add_spacefill(component=0,selection='.C2',radius=3.35/2,color='gray',opacity=0.4)\n",
    "v.add_spacefill(component=0,selection='.N3',radius=3.7/2,color='blue',opacity=0.4)\n",
    "for i in range(traj.n_frames):\n",
    "    v.add_component('data/lowerconf'+str(i)+'.pdb')\n",
    "    v.clear_representations(component=i+1)\n",
    "for i in range(traj.n_frames):\n",
    "    v.add_component('data/upperconf'+str(i)+'.pdb')\n",
    "    v.clear_representations(component=i+v.n_components+traj.n_frames+1)\n",
    "v.add_unitcell()\n",
    "v.camera = 'perspective'\n",
    "v.control.rotate([-0.5,-0.5,-0.5,-0.5])\n",
    "v.center()\n",
    "v.control.translate([0,0,-115])\n",
    "v.control.zoom(0.8)\n",
    "v"
   ]
  },
  {
   "cell_type": "code",
   "execution_count": null,
   "metadata": {},
   "outputs": [],
   "source": [
    "for i in range(4):\n",
    "    for i in range(traj.n_frames+1):\n",
    "        if i>0:\n",
    "            v.add_representation(component=i,repr_type='line',color='orange')\n",
    "            v.add_representation(component=i+traj.n_frames,repr_type='line',color='orange')\n",
    "            time.sleep(1)\n",
    "            v.frame = i\n",
    "            v.clear_representations(component=i)\n",
    "            v.clear_representations(component=i+traj.n_frames)"
   ]
  }
 ],
 "metadata": {
  "kernelspec": {
   "display_name": "Python 3",
   "language": "python",
   "name": "python3"
  },
  "language_info": {
   "codemirror_mode": {
    "name": "ipython",
    "version": 3
   },
   "file_extension": ".py",
   "mimetype": "text/x-python",
   "name": "python",
   "nbconvert_exporter": "python",
   "pygments_lexer": "ipython3",
   "version": "3.6.7"
  }
 },
 "nbformat": 4,
 "nbformat_minor": 2
}
