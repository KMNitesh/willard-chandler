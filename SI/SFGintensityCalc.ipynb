{
 "cells": [
  {
   "cell_type": "markdown",
   "metadata": {},
   "source": [
    "In the following cells, we simplify the expression for the 27 functions in BETijk and we store them in `funclist`"
   ]
  },
  {
   "cell_type": "code",
   "execution_count": null,
   "metadata": {},
   "outputs": [],
   "source": [
    "from sympy import simplify, cos, sin, exp, Symbol, lambdify, integrate, pi, sqrt\n",
    "from sympy.matrices import *\n",
    "from sympy.physics.quantum import TensorProduct"
   ]
  },
  {
   "cell_type": "code",
   "execution_count": null,
   "metadata": {},
   "outputs": [],
   "source": [
    "x = Symbol('x')\n",
    "y = Symbol('y')\n",
    "z = Symbol('z')\n",
    "c = Symbol('c', positive=True)"
   ]
  },
  {
   "cell_type": "code",
   "execution_count": null,
   "metadata": {},
   "outputs": [],
   "source": [
    "Rz = Matrix([[cos(x),sin(x),0],[-sin(x),cos(x),0],[0,0,1]])\n",
    "Ry = Matrix([[cos(z),0,-sin(z)],[0,1,0],[sin(z),0,cos(z)]])\n",
    "Rc = Matrix([[cos(y),sin(y),0],[-sin(y),cos(y),0],[0,0,1]])"
   ]
  },
  {
   "cell_type": "code",
   "execution_count": null,
   "metadata": {},
   "outputs": [],
   "source": [
    "RAI = Rz*Ry*Rc\n",
    "RAI"
   ]
  },
  {
   "cell_type": "code",
   "execution_count": null,
   "metadata": {},
   "outputs": [],
   "source": [
    "SAI = TensorProduct(RAI,RAI)\n",
    "TAI = TensorProduct(SAI,RAI)\n",
    "BETabc = Matrix([0, 0, 0.15, 0, 0, 0, 0, 0, 0, 0, 0, 0, 0, 0, 0.15, 0, 0, 0, 0, 0, 0, 0, 0, 0, 0, 0, 1])"
   ]
  },
  {
   "cell_type": "code",
   "execution_count": null,
   "metadata": {},
   "outputs": [],
   "source": [
    "BETijk = TAI * BETabc"
   ]
  },
  {
   "cell_type": "code",
   "execution_count": null,
   "metadata": {},
   "outputs": [],
   "source": [
    "funclist = []\n",
    "for bet in BETijk:\n",
    "    funclist.append(lambdify( (x,y,z), bet ))"
   ]
  },
  {
   "cell_type": "code",
   "execution_count": null,
   "metadata": {},
   "outputs": [],
   "source": [
    "len(funclist)"
   ]
  },
  {
   "cell_type": "markdown",
   "metadata": {},
   "source": [
    "$$\n",
    "\\frac{1}{N_E} = \\int_0^\\pi \\exp{(-\\theta/\\theta_E)} \\sin{(\\theta)} \\mathrm{d}\\theta = \\frac{\\theta_E^2(\\exp{(-\\pi/\\theta_E)}+1)}{\\theta_E^2+1}\n",
    "$$"
   ]
  },
  {
   "cell_type": "code",
   "execution_count": null,
   "metadata": {},
   "outputs": [],
   "source": [
    "simplify(integrate(exp( - x / c )*sin(x), (x,0,pi)))"
   ]
  },
  {
   "cell_type": "markdown",
   "metadata": {},
   "source": [
    "$$\n",
    "\\langle \\theta \\rangle = \\frac{\\theta_E^2+1}{\\theta_E^2(\\exp{(-\\pi/\\theta_E)}+1)} \\int_0^\\pi \\theta \\exp{(-\\theta/\\theta_E)} \\sin{(\\theta)} \\mathrm{d}\\theta = \\frac{2 \\theta_E}{\\theta_E^2+1} + \\frac{\\pi}{\\exp{(\\pi/\\theta_E)}+1}\n",
    "$$"
   ]
  },
  {
   "cell_type": "code",
   "execution_count": null,
   "metadata": {},
   "outputs": [],
   "source": [
    "simplify(integrate(exp( - x / c )*x*sin(x), (x,0,pi)) / integrate(exp( - x / c )*sin(x), (x,0,pi)))"
   ]
  },
  {
   "cell_type": "markdown",
   "metadata": {},
   "source": [
    "The functions to carry out the numerical calculations are defined here below"
   ]
  },
  {
   "cell_type": "code",
   "execution_count": null,
   "metadata": {},
   "outputs": [],
   "source": [
    "import numpy as np\n",
    "import matplotlib.pyplot as plt\n",
    "from scipy import integrate\n",
    "from scipy.optimize import brentq"
   ]
  },
  {
   "cell_type": "code",
   "execution_count": null,
   "metadata": {},
   "outputs": [],
   "source": [
    "def funcKai(L):\n",
    "    g = lambda z : functprim(z,L)*np.sin(z)\n",
    "    x = np.linspace(0,2*np.pi,120)\n",
    "    y = np.linspace(0,2*np.pi,120)\n",
    "    z = np.linspace(0,np.pi,60)\n",
    "    dx = x[1]-x[0]\n",
    "    dy = y[1]-y[0]\n",
    "    den = g(z).sum()\n",
    "    x = x.reshape(-1,1,1)\n",
    "    y = y.reshape(1,-1,1)\n",
    "    z = z.reshape(1,1,-1)\n",
    "    integrals = []\n",
    "    for i in range(27):\n",
    "        f = lambda x,y,z : funclist[i](x,y,z)*g(z)\n",
    "        num = f(x,y,z).sum()*dx*dy\n",
    "        if i==26: # the 27th is a function of two variables only\n",
    "            num *= 120\n",
    "        integrals.append(num/den)\n",
    "    return np.array(integrals)"
   ]
  },
  {
   "cell_type": "code",
   "execution_count": null,
   "metadata": {},
   "outputs": [],
   "source": [
    "def compute(L):\n",
    "    Kai = funcKai(L)\n",
    "    c = 299792458; v1 = 1/800*1*1e9; v2 = 368000\n",
    "    na1=1; na2=1; na3=1\n",
    "    nb1 = 1.329; nb2 = 1.16 + 0.02j; nb3 = 1.331\n",
    "    nab1 = 1.15; nab2 = 1.09; nab3 = 1.15\n",
    "    w1 = 2*np.pi*c*v1; w2 = 2*np.pi*c*v2; w3 = w1+w2\n",
    "    psi1r = 63/180*np.pi; psi2r = 55/180*np.pi\n",
    "    psi1t = np.arcsin(na1/nb1*np.sin(psi1r)); psi2t = np.arcsin(na2/nb2*np.sin(psi2r))\n",
    "    psi3r = np.arcsin(1/(w3*na3)*(w1*na1*np.sin(psi1r)+w2*na2*np.sin(psi2r)))\n",
    "    psi3t = np.arcsin(1/(w3*nb3)*(w1*nb1*np.sin(psi1t)+w2*nb2*np.sin(psi2t)))\n",
    "    Lx1 = (2*na1*np.cos(psi1t))/(na1*np.cos(psi1t)+nb1*np.cos(psi1r))\n",
    "    Lx2 = (2*na2*np.cos(psi2t))/(na2*np.cos(psi2t)+nb2*np.cos(psi2r))\n",
    "    Lx3 = (2*na3*np.cos(psi3t))/(na3*np.cos(psi3t)+nb3*np.cos(psi3r))\n",
    "    Ly1 = (2*na1*np.cos(psi1r))/(na1*np.cos(psi1r)+nb1*np.cos(psi1t))\n",
    "    Ly2 = (2*na2*np.cos(psi2r))/(na2*np.cos(psi2r)+nb2*np.cos(psi2t)) \n",
    "    Ly3 = (2*na3*np.cos(psi3r))/(na3*np.cos(psi3r)+nb3*np.cos(psi3t)) \n",
    "    Lz1 = ((2*nb1*np.cos(psi1r))/(na1*np.cos(psi1t)+nb1*np.cos(psi1r)))*(na1/nab1)**2 \n",
    "    Lz2 = ((2*nb2*np.cos(psi2r))/(na2*np.cos(psi2t)+nb2*np.cos(psi2r)))*(na2/nab2)**2 \n",
    "    Lz3 = ((2*nb3*np.cos(psi3r))/(na3*np.cos(psi3t)+nb3*np.cos(psi3r)))*(na3/nab3)**2 \n",
    "    Ep1 = np.array( [0, 1, 1, 0] )\n",
    "    Ep2 = np.array( [1, 0, 1, 0] )\n",
    "    Es1 = np.array( [1, 0, 0, 1] )\n",
    "    Es2 = np.array( [0, 1, 0, 1] )\n",
    "    EX1 = Lx1*np.cos(psi1r)*Ep1; \n",
    "    EX2 = Lx2*np.cos(psi2r)*Ep2;\n",
    "    EY1 = Ly1*Es1; \n",
    "    EY2 = Ly2*Es2;\n",
    "    EZ1 = Lz1*np.sin(psi1r)*Ep1; \n",
    "    EZ2 = Lz2*np.sin(psi2r)*Ep2;\n",
    "    PX = Kai[0]*EX1*EX2+Kai[1]*EX1*EY2+Kai[2]*EX1*EZ2+Kai[3]*EY1*EX2+Kai[4]*EY1*EY2+Kai[5]*EY1*EZ2+Kai[6]*EZ1*EX2+Kai[7]*EZ1*EY2+Kai[8]*EZ1*EZ2;\n",
    "    PY = Kai[9]*EX1*EX2+Kai[10]*EX1*EY2+Kai[11]*EX1*EZ2+Kai[12]*EY1*EX2+Kai[13]*EY1*EY2+Kai[14]*EY1*EZ2+Kai[15]*EZ1*EX2+Kai[16]*EZ1*EY2+Kai[17]*EZ1*EZ2;\n",
    "    PZ = Kai[18]*EX1*EX2+Kai[19]*EX1*EY2+Kai[20]*EX1*EZ2+Kai[21]*EY1*EX2+Kai[22]*EY1*EY2+Kai[23]*EY1*EZ2+Kai[24]*EZ1*EX2+Kai[25]*EZ1*EY2+Kai[26]*EZ1*EZ2;\n",
    "    ESFGs = Ly3*PY;\n",
    "    ESFGp = - Lx3 * np.cos(psi3r) * PX + Lz3 * np.sin(psi3r) * PZ;\n",
    "    ISFGs = ESFGs * ESFGs; ISFGp = ESFGp * ESFGp;\n",
    "    return np.real(ISFGs[0]), np.real(ISFGs[1]), np.real(ISFGp[2])"
   ]
  },
  {
   "cell_type": "markdown",
   "metadata": {},
   "source": [
    "### Exponential distribution function\n",
    "The average angle, $\\langle \\theta \\rangle$, is converted to $\\theta_E$ using\n",
    "$$\n",
    "\\langle \\theta \\rangle = N_E \\int_0^\\pi \\theta \\exp{(-\\theta/\\theta_E)} \\sin{(\\theta)} \\mathrm{d}\\theta = \\frac{2 \\theta_E}{\\theta_E^2+1} + \\frac{\\pi}{\\exp{(\\pi/\\theta_E)}+1}\n",
    "$$\n",
    "where $N_E$ is the normalization factor\n",
    "$$\n",
    "N_E = \\frac{1}{ \\int_0^\\pi \\exp{(-\\theta/\\theta_E)} \\sin{(\\theta)} \\mathrm{d}\\theta} = \\frac{\\theta_E^2+1}{\\theta_E^2(\\exp{(-\\pi/\\theta_E)}+1)}\n",
    "$$"
   ]
  },
  {
   "cell_type": "markdown",
   "metadata": {},
   "source": [
    "Here is a plot of $\\theta_E$ as a function of $\\langle \\theta \\rangle$ "
   ]
  },
  {
   "cell_type": "code",
   "execution_count": null,
   "metadata": {},
   "outputs": [],
   "source": [
    "decay2mean = lambda x : 2*x/(x**2+1) + np.pi/(np.exp(np.pi/x)+1)\n",
    "x = np.arange(0.01,np.pi/2,0.01)\n",
    "plt.plot(x/np.pi*180,decay2mean(x)/np.pi*180)\n",
    "plt.xlabel('Average Angle  /  $\\degree$')\n",
    "plt.ylabel(r'$\\theta_E$  /  $\\degree$')\n",
    "plt.xlim(0,90)\n",
    "plt.savefig('decayVSaverage.pdf')"
   ]
  },
  {
   "cell_type": "code",
   "execution_count": null,
   "metadata": {},
   "outputs": [],
   "source": [
    "def functprim(z,L):\n",
    "    # L is the average angle\n",
    "    # D is the decay constant\n",
    "    f = lambda x : 2*x/(x**2+1) + np.pi/(np.exp(np.pi/x)+1) - L\n",
    "    D = brentq(f, 0.01, 1e10) # finds the root of f in the interval 0.01 1e10\n",
    "    return np.exp( - z / D )"
   ]
  },
  {
   "cell_type": "code",
   "execution_count": null,
   "metadata": {},
   "outputs": [],
   "source": [
    "SSP = np.empty(0)\n",
    "SPS = np.empty(0)\n",
    "PPP = np.empty(0)\n",
    "x = np.arange(0.02,np.pi/2,0.05)\n",
    "for L in x:\n",
    "    ssp, sps, ppp = compute(L)\n",
    "    SSP = np.append(SSP,ssp)\n",
    "    SPS = np.append(SPS,sps)\n",
    "    PPP = np.append(PPP,ppp)"
   ]
  },
  {
   "cell_type": "code",
   "execution_count": null,
   "metadata": {},
   "outputs": [],
   "source": [
    "plt.plot(x*180/np.pi,SSP,label='SSP',marker='o')\n",
    "plt.plot(x*180/np.pi,SPS,label='SPS',marker='o')\n",
    "plt.plot(x*180/np.pi,PPP,label='PPP',marker='o')\n",
    "plt.legend(frameon=False)\n",
    "plt.xlabel(r'$\\langle \\theta \\rangle$  /  $\\degree$')\n",
    "plt.ylabel('SFG Intensity')\n",
    "plt.ylim(0,10)\n",
    "plt.xlim(0,90)\n",
    "plt.title('Exponential Decay')\n",
    "plt.savefig('expSFG.pdf')"
   ]
  },
  {
   "cell_type": "markdown",
   "metadata": {},
   "source": [
    "We can also calculate the SFG intensity as a function of $\\theta_E$"
   ]
  },
  {
   "cell_type": "code",
   "execution_count": null,
   "metadata": {},
   "outputs": [],
   "source": [
    "def functprim(z,L):\n",
    "    return np.exp( - z / L )"
   ]
  },
  {
   "cell_type": "code",
   "execution_count": null,
   "metadata": {},
   "outputs": [],
   "source": [
    "SSP = np.empty(0)\n",
    "SPS = np.empty(0)\n",
    "PPP = np.empty(0)\n",
    "x = np.linspace(0.01,np.pi*4,200)\n",
    "for L in x:\n",
    "    ssp, sps, ppp = compute(L)\n",
    "    SSP = np.append(SSP,ssp)\n",
    "    SPS = np.append(SPS,sps)\n",
    "    PPP = np.append(PPP,ppp)"
   ]
  },
  {
   "cell_type": "code",
   "execution_count": null,
   "metadata": {},
   "outputs": [],
   "source": [
    "plt.plot(x*180/np.pi,SSP,label='SSP',marker='o')\n",
    "plt.plot(x*180/np.pi,SPS,label='SPS',marker='o')\n",
    "plt.plot(x*180/np.pi,PPP,label='PPP',marker='o')\n",
    "plt.legend(frameon=False)\n",
    "plt.xlabel(r'$\\theta_E$  /  $\\degree$')\n",
    "plt.ylabel('SFG Intensity')\n",
    "plt.ylim(0,10)\n",
    "plt.xlim(0,90)\n",
    "plt.savefig('expSFG_thetaE.pdf')"
   ]
  },
  {
   "cell_type": "markdown",
   "metadata": {},
   "source": [
    "The SFG intensity as a function of $\\theta_E$ can be readily converted to SFG intensity vs $\\langle \\theta \\rangle$"
   ]
  },
  {
   "cell_type": "code",
   "execution_count": null,
   "metadata": {},
   "outputs": [],
   "source": [
    "plt.plot(decay2mean(x)*180/np.pi,SSP,label='SSP',marker='o')\n",
    "plt.plot(decay2mean(x)*180/np.pi,SPS,label='SPS',marker='o')\n",
    "plt.plot(decay2mean(x)*180/np.pi,PPP,label='PPP',marker='o')\n",
    "plt.legend(frameon=False)\n",
    "plt.xlabel('Average Angle  /  $\\degree$')\n",
    "plt.ylabel('SFG Intensity')\n",
    "plt.ylim(0,10)\n",
    "plt.xlim(0,90)"
   ]
  },
  {
   "cell_type": "markdown",
   "metadata": {},
   "source": [
    "### Gaussian distribution function\n",
    "We convert the average angle, $\\langle \\theta \\rangle$, into $\\theta_G$ using\n",
    "$$\n",
    "\\langle \\theta \\rangle = \\frac{N_G}{\\sqrt{2 \\pi \\sigma^2}} \\int_0^\\pi \\theta \\exp{\\frac{-(\\theta-\\theta_G)^2}{2 \\sigma^2}} \\sin{(\\theta)} \\mathrm{d}\\theta \n",
    "$$\n",
    "where $N_G$ is the normalization factor\n",
    "$$\n",
    "N_G = \\frac{\\sqrt{2 \\pi \\sigma^2}}{\\int_0^\\pi \\exp{\\frac{-(\\theta-\\theta_G)^2}{2 \\sigma^2}} \\sin{(\\theta)} \\mathrm{d}\\theta}\n",
    "$$\n",
    "and $\\sigma=15^\\circ$."
   ]
  },
  {
   "cell_type": "code",
   "execution_count": null,
   "metadata": {},
   "outputs": [],
   "source": [
    "def functprim(z,L):\n",
    "    sigma2 = (15/180*np.pi)**2\n",
    "    return np.exp( -(z-L)**2 / (2*sigma2) )"
   ]
  },
  {
   "cell_type": "code",
   "execution_count": null,
   "metadata": {},
   "outputs": [],
   "source": [
    "SSP = np.empty(0)\n",
    "SPS = np.empty(0)\n",
    "PPP = np.empty(0)\n",
    "x = np.linspace(-2*np.pi,np.pi/2,100)\n",
    "for L in x:\n",
    "    ssp, sps, ppp = compute(L)\n",
    "    SSP = np.append(SSP,ssp)\n",
    "    SPS = np.append(SPS,sps)\n",
    "    PPP = np.append(PPP,ppp)"
   ]
  },
  {
   "cell_type": "code",
   "execution_count": null,
   "metadata": {},
   "outputs": [],
   "source": [
    "plt.plot(x*180/np.pi,SSP,label='SSP',marker='o')\n",
    "plt.plot(x*180/np.pi,SPS,label='SPS',marker='o')\n",
    "plt.plot(x*180/np.pi,PPP,label='PPP',marker='o')\n",
    "plt.legend(frameon=False)\n",
    "plt.xlabel(r'$\\theta_G$  /  $\\degree$')\n",
    "plt.ylabel('SFG Intensity')\n",
    "plt.ylim(0,10)\n",
    "plt.xlim(0,90)\n",
    "plt.savefig('gaussianSFG_thetaG.pdf')"
   ]
  },
  {
   "cell_type": "markdown",
   "metadata": {},
   "source": [
    "Here $\\theta_G$ is converted to $\\langle \\theta \\rangle$"
   ]
  },
  {
   "cell_type": "code",
   "execution_count": null,
   "metadata": {},
   "outputs": [],
   "source": [
    "def thetag2mean(L):\n",
    "    x = np.linspace(0,np.pi,1000)\n",
    "    sigma2 = (15/180*np.pi)**2\n",
    "    num = lambda L : np.trapz(np.exp(-(x-L)**2/(2*sigma2))*x*np.sin(x),x)\n",
    "    den = lambda L : np.trapz(np.exp(-(x-L)**2/(2*sigma2))*np.sin(x),x)\n",
    "    return np.array(list(map(num, L)))/np.array(list(map(den, L)))"
   ]
  },
  {
   "cell_type": "code",
   "execution_count": null,
   "metadata": {},
   "outputs": [],
   "source": [
    "plt.plot(thetag2mean(x)*180/np.pi,SSP,label='SSP',marker='o')\n",
    "plt.plot(thetag2mean(x)*180/np.pi,SPS,label='SPS',marker='o')\n",
    "plt.plot(thetag2mean(x)*180/np.pi,PPP,label='PPP',marker='o')\n",
    "plt.legend(frameon=False)\n",
    "plt.xlabel(r'$\\langle \\theta \\rangle$  /  $\\degree$')\n",
    "plt.ylabel('SFG Intensity')\n",
    "plt.ylim(0,10)\n",
    "plt.xlim(0,90)\n",
    "plt.title('Gaussian')\n",
    "plt.savefig('gaussianSFG.pdf')"
   ]
  }
 ],
 "metadata": {
  "kernelspec": {
   "display_name": "Python 3",
   "language": "python",
   "name": "python3"
  },
  "language_info": {
   "codemirror_mode": {
    "name": "ipython",
    "version": 3
   },
   "file_extension": ".py",
   "mimetype": "text/x-python",
   "name": "python",
   "nbconvert_exporter": "python",
   "pygments_lexer": "ipython3",
   "version": "3.7.3"
  }
 },
 "nbformat": 4,
 "nbformat_minor": 2
}
